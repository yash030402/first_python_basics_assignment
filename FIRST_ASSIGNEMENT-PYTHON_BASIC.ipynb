{
 "cells": [
  {
   "cell_type": "code",
   "execution_count": null,
   "id": "72c0ece4-0d92-4767-bc17-76b746422e5a",
   "metadata": {},
   "outputs": [],
   "source": [
    "PYTHON BASIC ASSIGNMENT"
   ]
  },
  {
   "cell_type": "raw",
   "id": "6aaec87f-26ac-4d7e-b893-4795f3f366cd",
   "metadata": {},
   "source": [
    "#READ THIS DATASET"
   ]
  },
  {
   "cell_type": "code",
   "execution_count": 1,
   "id": "19e6b932-3176-468f-a574-4858b94485a7",
   "metadata": {},
   "outputs": [],
   "source": [
    "#1EXPLAIN THE KEY FEATURES OF PYTHON THAT MAKE IT A POPULAR CHOICE FOR PROGRAMMING.\n",
    "\n",
    "#following are the key featrures of python-\n",
    "\n",
    "#1 SIMPLICITY AND READABILITY\n",
    "# Python's syntax is designed to be intuitive and mirrors the English language,\n",
    "#  which makes it an accessible language for newcomers.\n",
    "#  The emphasis on readability is evident in its use of indentation to define code blocks,\n",
    "#  eliminating the need for braces that can clutter code in other languages.\n",
    "  \n",
    "#2 OBJECT-ORIENTED AND PROCEDURAL PROGRAMMING\n",
    "#  Python supports both object-oriented and procedural programming paradigms,\n",
    "#  offering flexibility in how developers approach their projects. \n",
    "#  Object-oriented features like classes and encapsulation allow for modular and reusable code.\n",
    "  \n",
    "#3 EXTENSIVE LIBRARIES AND FRAMEWORKS\n",
    "#  Python boasts a vast standard library, providing modules and functions for a wide array of tasks,\n",
    "#  from web development with frameworks like Django and Flask to scientific computing with libraries like NumPy and SciPy.\n",
    "  \n",
    "#4 INTEGRATED AND INTERPRETED\n",
    "#  As an interpreted language, Python executes code line by line, which simplifies debugging and makes it an integrated language.\n",
    "#  This approach also means there's no need for compilation, streamlining the development process.\n",
    "  \n",
    "#5 OPEN SOURCE WITH LARGE COMMUNITY\n",
    "#  Being open source, Python encourages community involvement, allowing anyone to contribute to its development.\n",
    "#  This has led to a large, active community that continuously works on improving the language and offering support.\n",
    "  \n",
    "#6 CROSS-PLATFORM COMPATIBILITY\n",
    "#  Python is a cross-platform language, meaning code written on one operating system, such as Windows,\n",
    "#  can run seamlessly on others like macOS or Linux without modification.\n",
    "  \n",
    "#7 GUI SUPPORT \n",
    "#  Python supports the development of graphical user interfaces (GUIs) through modules like Tkinter, PyQt, and others,\n",
    "#  making it suitable for desktop application development.\n",
    "  \n"
   ]
  },
  {
   "cell_type": "code",
   "execution_count": 13,
   "id": "546bea7a-729e-4134-8f53-10a077547649",
   "metadata": {},
   "outputs": [
    {
     "name": "stdout",
     "output_type": "stream",
     "text": [
      "the number is greater than 0\n"
     ]
    }
   ],
   "source": [
    "#2 DESCRIBE THE ROLE OF PREDEFINED KEYWORDS IN PYTHON AND PROVIDE EXAMPLES OF HOW THEY ARE USED IN A PROGRAM.\n",
    "\n",
    "\n",
    "#ROLE OF PREDEFIEND\n",
    "\n",
    "#Python keywords are reserved words that hold a specific meaning in the language and are integral to its syntax and structure.\n",
    "#These keywords cannot be used as identifiers for variables, functions, or any other custom names within your code.\n",
    " \n",
    "#Python keywords are the building blocks of Python code, dictating the rules of how the language is structured and how the codeis executed.\n",
    "#They are used to define the flow of control in code, create functions and classes, manage variable scope, handle exceptions, and more.\n",
    "\n",
    "#Some of the most commonly used Python keywords include if, else, elif, for, while, break, continue, def, return, class, try, except, raise,\n",
    "#finally, import, from, as, with, True, False, None, and, or, not, in, is, global, nonlocal, lambda, yield, async, and await.\n",
    "\n",
    "\n",
    "#FOLLOWING ARE THE EXAMPLES OF HOW PREDEFINED KEYWORDS ARE USED IN A PROGRAM-\n",
    " \n",
    "#if,else,elif, are used in conditional statememnt and help us to code decision based on some preconditions-\n",
    "#example-\n",
    "y = 100\n",
    "if y > 0:\n",
    "    print(\"the number is greater than 0\")"
   ]
  },
  {
   "cell_type": "code",
   "execution_count": 15,
   "id": "e7a25a1c-33e3-4093-b573-c8fb94f21c51",
   "metadata": {},
   "outputs": [
    {
     "name": "stdout",
     "output_type": "stream",
     "text": [
      "I WILL NOT GO TO BUY GROCERIES\n"
     ]
    }
   ],
   "source": [
    "weather = \"rainy\"\n",
    "if weather == \"rainy\":\n",
    "    print(\"I WILL NOT GO TO BUY GROCERIES\")"
   ]
  },
  {
   "cell_type": "code",
   "execution_count": 16,
   "id": "6e0cfd96-96d7-402f-a6a1-f2af1301db31",
   "metadata": {},
   "outputs": [
    {
     "name": "stdout",
     "output_type": "stream",
     "text": [
      "I WILL GO TO BUY GROCERIES\n"
     ]
    }
   ],
   "source": [
    "weather = \"sunny\"\n",
    "if weather == \"rainy\":\n",
    "    print(\"I WILL NOT GO TO BUY GROCERIES\")\n",
    "else:\n",
    "    print(\"I WILL GO TO BUY GROCERIES\")"
   ]
  },
  {
   "cell_type": "code",
   "execution_count": 17,
   "id": "88980770-019e-43a6-b54d-2fe2df43daba",
   "metadata": {},
   "outputs": [
    {
     "name": "stdout",
     "output_type": "stream",
     "text": [
      "this block will be executed if y is less than 100\n"
     ]
    }
   ],
   "source": [
    "y = 22\n",
    "if y > 100:\n",
    "    print(\"this block will be executed if y is greater than 100\")\n",
    "elif y < 100:\n",
    "    print(\"this block will be executed if y is less than 100\")\n",
    "else:\n",
    "    print(\"the number is equal to 100\")"
   ]
  },
  {
   "cell_type": "code",
   "execution_count": 18,
   "id": "cc15c5bd-2569-4313-8bd0-7af7dbe57da9",
   "metadata": {},
   "outputs": [
    {
     "name": "stdout",
     "output_type": "stream",
     "text": [
      "30\n",
      "31\n",
      "32\n",
      "33\n",
      "34\n",
      "35\n",
      "36\n"
     ]
    }
   ],
   "source": [
    "y = 37\n",
    "r = 30\n",
    "while r<y:\n",
    "    print(r)\n",
    "    r = r+1"
   ]
  },
  {
   "cell_type": "code",
   "execution_count": 19,
   "id": "f276b5fc-48ab-4905-a12d-28064dbee72c",
   "metadata": {},
   "outputs": [
    {
     "name": "stdout",
     "output_type": "stream",
     "text": [
      "y\n",
      "a\n",
      "s\n",
      "h\n",
      "s\n",
      "h\n",
      "a\n",
      "k\n",
      "d\n",
      "w\n",
      "i\n",
      "p\n",
      "e\n",
      "e\n"
     ]
    }
   ],
   "source": [
    "for i in \"yashshakdwipee\":\n",
    "    print(i)"
   ]
  },
  {
   "cell_type": "code",
   "execution_count": 26,
   "id": "527cdb89-0eed-460b-8af3-b902377604e5",
   "metadata": {},
   "outputs": [
    {
     "name": "stdout",
     "output_type": "stream",
     "text": [
      "yash shk\n"
     ]
    }
   ],
   "source": [
    "list=[ 1, 2, 3.4,\"yash shk\",\"pwskills\"]\n",
    "for i in l:\n",
    "    if i == \"yash shk\":\n",
    "        print(i)      "
   ]
  },
  {
   "cell_type": "code",
   "execution_count": 5,
   "id": "d1a530e1-6100-4c99-b032-eaea142cffcf",
   "metadata": {},
   "outputs": [
    {
     "data": {
      "text/plain": [
       "1"
      ]
     },
     "execution_count": 5,
     "metadata": {},
     "output_type": "execute_result"
    }
   ],
   "source": [
    "# 3 COMPARE AND CONTRAST MUTABLE AND IMMUTABLE OBJECTS IN PYTHON WITH EXAMPLES .\n",
    "\n",
    "\n",
    "#In Python, Every variable in Python holds an instance of an object.\n",
    "#There are two types of objects in Python i.e. Mutable and Immutable objects. \n",
    "#Whenever an object is instantiated, it is assigned a unique object id. \n",
    "#The type of the object is defined at the runtime and it can’t be changed afterward.\n",
    "#However, its state can be changed if it is a mutable object.\n",
    "\n",
    "#example of mutable objects -\n",
    "\n",
    "#list - it is a type of container which can store all types of data like-integers ,strings ,floats, boolen etc.\n",
    "#list is type of mutable objects and supports item assignment\n",
    "\n",
    "list_cont = [1,2,3,4.3,\"yash\",\"pwskills\",3+4j]\n",
    "list_cont[0]\n",
    "\n"
   ]
  },
  {
   "cell_type": "code",
   "execution_count": 6,
   "id": "b8708b41-5643-440a-b4e5-dd1e165832ec",
   "metadata": {},
   "outputs": [],
   "source": [
    "list_cont[4]=\"lucky\""
   ]
  },
  {
   "cell_type": "code",
   "execution_count": 7,
   "id": "cde2dea4-0d68-401f-b472-346141c2ad60",
   "metadata": {},
   "outputs": [
    {
     "data": {
      "text/plain": [
       "[1, 2, 3, 4.3, 'lucky', 'pwskills', (3+4j)]"
      ]
     },
     "execution_count": 7,
     "metadata": {},
     "output_type": "execute_result"
    }
   ],
   "source": [
    "list_cont"
   ]
  },
  {
   "cell_type": "code",
   "execution_count": 8,
   "id": "1ae8b1d7-a3f2-4cf4-b259-47aad5cb8769",
   "metadata": {},
   "outputs": [
    {
     "ename": "TypeError",
     "evalue": "'str' object does not support item assignment",
     "output_type": "error",
     "traceback": [
      "\u001b[0;31m---------------------------------------------------------------------------\u001b[0m",
      "\u001b[0;31mTypeError\u001b[0m                                 Traceback (most recent call last)",
      "Cell \u001b[0;32mIn[8], line 6\u001b[0m\n\u001b[1;32m      1\u001b[0m \u001b[38;5;66;03m#examples of immutable objects-\u001b[39;00m\n\u001b[1;32m      2\u001b[0m \u001b[38;5;66;03m#string,float,integer,tuple are types of immutable object / doesn't support item assignment.\u001b[39;00m\n\u001b[1;32m      3\u001b[0m \u001b[38;5;66;03m#in simple words,an immutable object can’t be changed after it is created. \u001b[39;00m\n\u001b[1;32m      5\u001b[0m message \u001b[38;5;241m=\u001b[39m \u001b[38;5;124m\"\u001b[39m\u001b[38;5;124mhello my name is yash\u001b[39m\u001b[38;5;124m\"\u001b[39m\n\u001b[0;32m----> 6\u001b[0m \u001b[43mmessage\u001b[49m\u001b[43m[\u001b[49m\u001b[38;5;241;43m0\u001b[39;49m\u001b[43m]\u001b[49m\u001b[38;5;241m=\u001b[39m\u001b[38;5;124m\"\u001b[39m\u001b[38;5;124mp\u001b[39m\u001b[38;5;124m\"\u001b[39m\n\u001b[1;32m      7\u001b[0m \u001b[38;5;28mprint\u001b[39m(message)\n",
      "\u001b[0;31mTypeError\u001b[0m: 'str' object does not support item assignment"
     ]
    }
   ],
   "source": [
    "#examples of immutable objects-\n",
    "#string,float,integer,tuple are types of immutable object / doesn't support item assignment.\n",
    "#in simple words,an immutable object can’t be changed after it is created. \n",
    "\n",
    "message = \"hello my name is yash\"\n",
    "message[0]=\"p\"\n",
    "print(message)"
   ]
  },
  {
   "cell_type": "code",
   "execution_count": 9,
   "id": "6507cca7-53dc-4c90-af5d-12e0ae18ef8d",
   "metadata": {},
   "outputs": [],
   "source": [
    "# as from the above error we can clearly see that strings are kind od immutable object and can't be changed after creation"
   ]
  },
  {
   "cell_type": "code",
   "execution_count": 10,
   "id": "d7cce5e0-cb61-43f5-a5de-f7ecbd48ab07",
   "metadata": {},
   "outputs": [
    {
     "data": {
      "text/plain": [
       "33"
      ]
     },
     "execution_count": 10,
     "metadata": {},
     "output_type": "execute_result"
    }
   ],
   "source": [
    "# 4 DISCUSS THE DIFFERENT TYPES OF OPERATORS IN PYTHON AND PROVIDE EXAMPLES OF HOW THEY ARE USED.\n",
    "\n",
    "\n",
    "#different types of operators in python are as follows -\n",
    "\n",
    "# a ARITHMETIC OPERATORS\n",
    "#In Python, arithmetic operators are used to perform mathematical operations like addition, subtraction, multiplication, and division. Here's a quick overview of the arithmetic operators in Python:\n",
    "\n",
    "#Addition (+): Adds two operands.\n",
    "\n",
    "#Subtraction (-): Subtracts the second operand from the first.\n",
    "\n",
    "#Multiplication (*): Multiplies two operands.\n",
    "\n",
    "#Division (/): Divides the first operand by the second.\n",
    "\n",
    "#Modulus (%): Returns the remainder when the first operand is divided by the second.\n",
    "\n",
    "#Exponentiation (**): Raises the first operand to the power of the second.\n",
    "\n",
    "#Floor Division (//): Divides the first operand by the second and returns the largest integer less than or equal to the result\n",
    "\n",
    "#EXAMPLES-\n",
    "\n",
    "100-67"
   ]
  },
  {
   "cell_type": "code",
   "execution_count": 11,
   "id": "da2a4a0e-d8ce-43c2-ab9b-d014601539e9",
   "metadata": {},
   "outputs": [
    {
     "data": {
      "text/plain": [
       "35"
      ]
     },
     "execution_count": 11,
     "metadata": {},
     "output_type": "execute_result"
    }
   ],
   "source": [
    "7*5"
   ]
  },
  {
   "cell_type": "code",
   "execution_count": 12,
   "id": "5b7d6090-37b4-4bff-9b52-bc7fa368f7fe",
   "metadata": {},
   "outputs": [
    {
     "data": {
      "text/plain": [
       "19.0"
      ]
     },
     "execution_count": 12,
     "metadata": {},
     "output_type": "execute_result"
    }
   ],
   "source": [
    "76/4"
   ]
  },
  {
   "cell_type": "code",
   "execution_count": 13,
   "id": "bfa39bd9-ebbd-4834-9c67-68c523b9731b",
   "metadata": {},
   "outputs": [
    {
     "data": {
      "text/plain": [
       "1"
      ]
     },
     "execution_count": 13,
     "metadata": {},
     "output_type": "execute_result"
    }
   ],
   "source": [
    "21%4"
   ]
  },
  {
   "cell_type": "code",
   "execution_count": 14,
   "id": "25b7fba6-1aa7-473b-834a-6eb3c2a79d38",
   "metadata": {},
   "outputs": [
    {
     "data": {
      "text/plain": [
       "3"
      ]
     },
     "execution_count": 14,
     "metadata": {},
     "output_type": "execute_result"
    }
   ],
   "source": [
    "7//2"
   ]
  },
  {
   "cell_type": "code",
   "execution_count": 20,
   "id": "ae2b3c69-d7c7-4b04-b9fb-6722aa71887e",
   "metadata": {},
   "outputs": [],
   "source": [
    "# b COMPARISON OPERATOR\n",
    "\n",
    "#comparison operators in Python, also known as comparison operators, are used to compare two values. They return a Boolean value,\n",
    "#either True or False, based on the condition's outcome.\n",
    "\n",
    "# types of comparison operators are as follow\n",
    "\n",
    "#Equal to (==): Returns True if both operands are equal\n",
    "\n",
    " #print(5 == 5) # Output: True\n",
    "\n",
    "#Not Equal to (!=): Returns True if operands are not equal\n",
    "\n",
    " #print(5 != 3) # Output: True\n",
    "\n",
    "#Greater than (>): Returns True if the left operand is greater than the right\n",
    "\n",
    "#print(10 > 5) # Output: True\n",
    "\n",
    "#Less than (<): Returns True if the left operand is less than the right\n",
    "\n",
    " #print(5 < 10) # Output: True\n",
    "\n",
    "#Greater than or Equal to (>=): Returns True if left operand is greater than or equal to the right\n",
    "\n",
    "#print(10 >= 10) # Output: True\n",
    "\n",
    "#Less than or Equal to (<=): Returns True if left operand is less than or equal to the right\n",
    " #print(5 <= 10) # Output: True"
   ]
  },
  {
   "cell_type": "code",
   "execution_count": 25,
   "id": "6e818825-7ac1-4815-8858-7e2c6b22caec",
   "metadata": {},
   "outputs": [],
   "source": [
    " a = 55\n",
    " b = 34"
   ]
  },
  {
   "cell_type": "code",
   "execution_count": 26,
   "id": "67b7ad9d-0f84-45ca-9614-2e78c6f82f8f",
   "metadata": {},
   "outputs": [
    {
     "data": {
      "text/plain": [
       "True"
      ]
     },
     "execution_count": 26,
     "metadata": {},
     "output_type": "execute_result"
    }
   ],
   "source": [
    "a>b"
   ]
  },
  {
   "cell_type": "code",
   "execution_count": 27,
   "id": "8e07228d-7118-4189-a510-4c04a33add26",
   "metadata": {},
   "outputs": [
    {
     "data": {
      "text/plain": [
       "False"
      ]
     },
     "execution_count": 27,
     "metadata": {},
     "output_type": "execute_result"
    }
   ],
   "source": [
    "b>a"
   ]
  },
  {
   "cell_type": "code",
   "execution_count": 32,
   "id": "69b67778-4a01-42b2-84bd-d09ccb9e3bb3",
   "metadata": {},
   "outputs": [],
   "source": [
    "c =34\n",
    "h=67"
   ]
  },
  {
   "cell_type": "code",
   "execution_count": 34,
   "id": "27fc494a-3da1-4411-a52a-eb6ba0fd97b9",
   "metadata": {},
   "outputs": [
    {
     "name": "stdout",
     "output_type": "stream",
     "text": [
      "True\n"
     ]
    }
   ],
   "source": [
    "print(5 <10)"
   ]
  },
  {
   "cell_type": "code",
   "execution_count": 35,
   "id": "0203d746-d45c-47fc-9e41-8e14b4ad8eed",
   "metadata": {},
   "outputs": [
    {
     "name": "stdout",
     "output_type": "stream",
     "text": [
      "True\n"
     ]
    }
   ],
   "source": [
    "print(156!=234)"
   ]
  },
  {
   "cell_type": "code",
   "execution_count": 19,
   "id": "57a34def-a99e-489d-91d2-7b6a47e085ae",
   "metadata": {},
   "outputs": [],
   "source": [
    "# c LOGICAL OPERATORS\n",
    "\n",
    "#Logical operators are used to combine conditional statements:\n",
    "\n",
    "#Operator\tDescription\tExample\t\n",
    "\n",
    "#and =      Returns True if both statements are true\tx < 5 and  x < 10\n",
    "\n",
    "#or =       Returns True if one of the statements is true\tx < 5 or x < 4\t\n",
    "\n",
    "#not =\t    Reverse the result, returns False if the result is true\tnot(x < 5 and x < 10)\t\n",
    "\n",
    "\n",
    "# we can understand better through this table-\n",
    "\n",
    "#and operator                         # in binary form\n",
    "\n",
    "# true and true = true                1 and 1 = 1\n",
    "# true and false = false              1 and 0 = 0\n",
    "# false and true= false               0 and 1 = 0\n",
    "# false and false= false              0 and 0 = 0\n",
    " \n",
    "\n",
    "# or operator\n",
    "\n",
    "\n",
    "\n",
    "# true or true = true                 1 or 1 = 1 \n",
    "# true or false = true                1 or 0 = 1\n",
    "#  false or true= true                0 or 1 = 1\n",
    "#false or false = false               0 or 0 = 0"
   ]
  },
  {
   "cell_type": "code",
   "execution_count": 1,
   "id": "a70a0016-2c4d-44f6-9d2e-63d7786429f2",
   "metadata": {},
   "outputs": [
    {
     "data": {
      "text/plain": [
       "10"
      ]
     },
     "execution_count": 1,
     "metadata": {},
     "output_type": "execute_result"
    }
   ],
   "source": [
    "# D bitwise operators\n",
    "\n",
    "\n",
    "#Python bitwise operators are used to perform bitwise calculations on integers.\n",
    "#The integers are first converted into binary and then operations are performed on each bit or corresponding pair of bits,\n",
    "#hence the name bitwise operators. The result is then returned in decimal format.\n",
    "\n",
    "\n",
    "#following are the different types of bitwise operator-\n",
    "\n",
    "# BITWISE AND (&)\n",
    "#example- \n",
    "10&10"
   ]
  },
  {
   "cell_type": "code",
   "execution_count": 3,
   "id": "4e036b12-a627-4365-afd9-b8a510748ff8",
   "metadata": {},
   "outputs": [
    {
     "data": {
      "text/plain": [
       "0"
      ]
     },
     "execution_count": 3,
     "metadata": {},
     "output_type": "execute_result"
    }
   ],
   "source": [
    "34&24"
   ]
  },
  {
   "cell_type": "code",
   "execution_count": 5,
   "id": "96f9b011-e52b-46a8-95be-5b3167686e4a",
   "metadata": {},
   "outputs": [
    {
     "data": {
      "text/plain": [
       "'0b1010'"
      ]
     },
     "execution_count": 5,
     "metadata": {},
     "output_type": "execute_result"
    }
   ],
   "source": [
    "#explanation of how both the AND OPERATES GENERATED -\n",
    "bin(10)"
   ]
  },
  {
   "cell_type": "code",
   "execution_count": 7,
   "id": "5a6fc290-f595-4129-9fcb-f278a87c9bb9",
   "metadata": {},
   "outputs": [
    {
     "data": {
      "text/plain": [
       "'0b100010'"
      ]
     },
     "execution_count": 7,
     "metadata": {},
     "output_type": "execute_result"
    }
   ],
   "source": [
    "bin(34)"
   ]
  },
  {
   "cell_type": "code",
   "execution_count": 8,
   "id": "6be62f1c-2315-45ee-a7f0-1affbbad24d0",
   "metadata": {},
   "outputs": [
    {
     "data": {
      "text/plain": [
       "'0b11000'"
      ]
     },
     "execution_count": 8,
     "metadata": {},
     "output_type": "execute_result"
    }
   ],
   "source": [
    "bin(24)"
   ]
  },
  {
   "cell_type": "code",
   "execution_count": 9,
   "id": "2047074a-1ad5-499c-9397-a95cb424d294",
   "metadata": {},
   "outputs": [],
   "source": [
    "#100010   =  000000 so the bitwise (&) OF 34&24=0\n",
    "# 11000 "
   ]
  },
  {
   "cell_type": "code",
   "execution_count": 10,
   "id": "ccd3aaa5-9034-4954-9d11-d77883ab1421",
   "metadata": {},
   "outputs": [
    {
     "data": {
      "text/plain": [
       "7"
      ]
     },
     "execution_count": 10,
     "metadata": {},
     "output_type": "execute_result"
    }
   ],
   "source": [
    "#BITWISE OR(|)\n",
    "#example-\n",
    "3|5"
   ]
  },
  {
   "cell_type": "code",
   "execution_count": 11,
   "id": "f22c2e75-0640-467f-9e15-03c070d42bea",
   "metadata": {},
   "outputs": [
    {
     "data": {
      "text/plain": [
       "4"
      ]
     },
     "execution_count": 11,
     "metadata": {},
     "output_type": "execute_result"
    }
   ],
   "source": [
    "#BITWISE XOR OPERATOR\n",
    "#example-\n",
    "2^6"
   ]
  },
  {
   "cell_type": "code",
   "execution_count": 17,
   "id": "2da90c45-7dec-47ea-915e-7a1de2b8a8fe",
   "metadata": {},
   "outputs": [
    {
     "data": {
      "text/plain": [
       "-101"
      ]
     },
     "execution_count": 17,
     "metadata": {},
     "output_type": "execute_result"
    }
   ],
   "source": [
    "#BITWISE NOT (~) \n",
    "#example\n",
    "~100"
   ]
  },
  {
   "cell_type": "code",
   "execution_count": 18,
   "id": "e86c6240-ab4c-4584-92e3-f0ee3b888adb",
   "metadata": {},
   "outputs": [
    {
     "data": {
      "text/plain": [
       "6016"
      ]
     },
     "execution_count": 18,
     "metadata": {},
     "output_type": "execute_result"
    }
   ],
   "source": [
    "#LEFTSHIFT OPERATOR[<<]\n",
    "# left shift operatorshifts the bits to the left by a specified no.of position filling as to the right\n",
    "\n",
    "#example-\n",
    "47<<7"
   ]
  },
  {
   "cell_type": "code",
   "execution_count": 21,
   "id": "718ec43e-efc7-4909-b31c-fe83f85069df",
   "metadata": {},
   "outputs": [
    {
     "data": {
      "text/plain": [
       "35"
      ]
     },
     "execution_count": 21,
     "metadata": {},
     "output_type": "execute_result"
    }
   ],
   "source": [
    "#RIGHTSHIFT OPERATOR[>>]\n",
    "#removes the number of elements in the binary.\n",
    "\n",
    "#example-\n",
    "280>>3\n",
    " \n",
    "    "
   ]
  },
  {
   "cell_type": "code",
   "execution_count": 1,
   "id": "368caacb-c658-428e-aba0-f4fdf943bef1",
   "metadata": {},
   "outputs": [],
   "source": [
    "#E ASSIGNMENT OPERATOR \n",
    "\n",
    "\n",
    "#Assignment Operators are used to assign values to variables.\n",
    "#This operator is used to assign the value of the right side of the expression to the left side operand.\n",
    "\n",
    "#example-\n",
    "a=10"
   ]
  },
  {
   "cell_type": "code",
   "execution_count": 2,
   "id": "31d1e61f-7ea4-4439-a569-2bbe1c70a2e2",
   "metadata": {},
   "outputs": [
    {
     "data": {
      "text/plain": [
       "15"
      ]
     },
     "execution_count": 2,
     "metadata": {},
     "output_type": "execute_result"
    }
   ],
   "source": [
    "a+5"
   ]
  },
  {
   "cell_type": "code",
   "execution_count": 3,
   "id": "a6d8870a-bf82-4914-9d63-c17d9e6a9c4c",
   "metadata": {},
   "outputs": [
    {
     "data": {
      "text/plain": [
       "5"
      ]
     },
     "execution_count": 3,
     "metadata": {},
     "output_type": "execute_result"
    }
   ],
   "source": [
    "a-5"
   ]
  },
  {
   "cell_type": "code",
   "execution_count": 4,
   "id": "25e89d57-c470-45ac-bc03-c04f07509d3c",
   "metadata": {},
   "outputs": [
    {
     "data": {
      "text/plain": [
       "3.3333333333333335"
      ]
     },
     "execution_count": 4,
     "metadata": {},
     "output_type": "execute_result"
    }
   ],
   "source": [
    "a/3"
   ]
  },
  {
   "cell_type": "code",
   "execution_count": 5,
   "id": "dffc765f-203c-4e5f-b6f8-49ddf05fdebd",
   "metadata": {},
   "outputs": [
    {
     "data": {
      "text/plain": [
       "30"
      ]
     },
     "execution_count": 5,
     "metadata": {},
     "output_type": "execute_result"
    }
   ],
   "source": [
    "a*3"
   ]
  },
  {
   "cell_type": "code",
   "execution_count": 2,
   "id": "37eb1c33-3314-4a51-a5be-04e4ab96eaf2",
   "metadata": {},
   "outputs": [
    {
     "data": {
      "text/plain": [
       "False"
      ]
     },
     "execution_count": 2,
     "metadata": {},
     "output_type": "execute_result"
    }
   ],
   "source": [
    "#F MEMBERSHIP OPERATORS\n",
    "#embership operators in Python are used to test whether a value or variable is found in a sequence (string, list, tuple, set, dictionary).\n",
    "#here are two membership operators explained as follows:\n",
    "\n",
    "#example-\n",
    "y=\"yash shakdwipee\"\n",
    "\"n\" in y\n"
   ]
  },
  {
   "cell_type": "code",
   "execution_count": 3,
   "id": "d1aecc96-c694-4665-8190-1db267076370",
   "metadata": {},
   "outputs": [
    {
     "data": {
      "text/plain": [
       "True"
      ]
     },
     "execution_count": 3,
     "metadata": {},
     "output_type": "execute_result"
    }
   ],
   "source": [
    "\"y\" in y"
   ]
  },
  {
   "cell_type": "code",
   "execution_count": 6,
   "id": "8a94ea12-b6ee-42d1-b913-4819e9ed2aec",
   "metadata": {},
   "outputs": [
    {
     "data": {
      "text/plain": [
       "False"
      ]
     },
     "execution_count": 6,
     "metadata": {},
     "output_type": "execute_result"
    }
   ],
   "source": [
    "#G IDENTITY OPERATORS\n",
    "#compares the location of two objects/variables.\n",
    "# not if they are equal, but if they are actually the same object, with the same memory location\n",
    "\n",
    "#is Returns true if both variables are the same object x is y.\n",
    "#is not Returns true if both variables are not the same object x is not y.\n",
    "\n",
    "#example-\n",
    "a= 2\n",
    "b=4\n",
    "\n",
    "a is b"
   ]
  },
  {
   "cell_type": "code",
   "execution_count": 7,
   "id": "b17d6f16-6595-41be-b479-af767b2f5a03",
   "metadata": {},
   "outputs": [
    {
     "data": {
      "text/plain": [
       "True"
      ]
     },
     "execution_count": 7,
     "metadata": {},
     "output_type": "execute_result"
    }
   ],
   "source": [
    "a is not b"
   ]
  },
  {
   "cell_type": "code",
   "execution_count": 8,
   "id": "b3bdec90-01a2-4a6b-b7ad-97d48cfafd07",
   "metadata": {},
   "outputs": [
    {
     "ename": "TypeError",
     "evalue": "can only concatenate str (not \"int\") to str",
     "output_type": "error",
     "traceback": [
      "\u001b[0;31m---------------------------------------------------------------------------\u001b[0m",
      "\u001b[0;31mTypeError\u001b[0m                                 Traceback (most recent call last)",
      "Cell \u001b[0;32mIn[8], line 14\u001b[0m\n\u001b[1;32m     12\u001b[0m a \u001b[38;5;241m=\u001b[39m \u001b[38;5;124m\"\u001b[39m\u001b[38;5;124m2\u001b[39m\u001b[38;5;124m\"\u001b[39m\n\u001b[1;32m     13\u001b[0m b \u001b[38;5;241m=\u001b[39m \u001b[38;5;241m3\u001b[39m\n\u001b[0;32m---> 14\u001b[0m \u001b[43ma\u001b[49m\u001b[38;5;241;43m+\u001b[39;49m\u001b[43mb\u001b[49m\n",
      "\u001b[0;31mTypeError\u001b[0m: can only concatenate str (not \"int\") to str"
     ]
    }
   ],
   "source": [
    "# 5  EXPLAIN THE CONCEPT OF TYPE CASTING IN PYTHON WITH EXAMPLES.\n",
    "\n",
    "\n",
    "#type casting/type conversion\n",
    "\n",
    "#the process of changing the data type of a value\\object in python is known as type casting\n",
    "\n",
    "#why?\n",
    "#because while executing\\computation using operators,there can be mismatch between data types\n",
    "\n",
    "#example-\n",
    "a = \"2\"\n",
    "b = 3\n",
    "a+b"
   ]
  },
  {
   "cell_type": "code",
   "execution_count": 10,
   "id": "3cc83664-980c-4071-b5a2-e5ee554b2d0a",
   "metadata": {},
   "outputs": [
    {
     "data": {
      "text/plain": [
       "5"
      ]
     },
     "execution_count": 10,
     "metadata": {},
     "output_type": "execute_result"
    }
   ],
   "source": [
    "#now to correct this error we will gonna change the data type from string to integer\n",
    "\n",
    "int(a)+b"
   ]
  },
  {
   "cell_type": "code",
   "execution_count": 11,
   "id": "9194ac65-0ca8-44b8-a28c-7e3fde813bcd",
   "metadata": {},
   "outputs": [
    {
     "name": "stdout",
     "output_type": "stream",
     "text": [
      "<class 'int'>\n"
     ]
    }
   ],
   "source": [
    "# this is how by doing type casting we can easily change the data type and correct it.\n",
    "# there are two types of type casting - implicit and explicit\n",
    "\n",
    "# Python automatically converts \n",
    "# a to int \n",
    "a = 7\n",
    "print(type(a)) \n",
    "\n"
   ]
  },
  {
   "cell_type": "code",
   "execution_count": 12,
   "id": "ba812fac-7b71-4694-9408-9215de2401b5",
   "metadata": {},
   "outputs": [
    {
     "name": "stdout",
     "output_type": "stream",
     "text": [
      "<class 'float'>\n"
     ]
    }
   ],
   "source": [
    "# Python automatically converts \n",
    "# b to float \n",
    "b = 3.0\n",
    "print(type(b)) \n"
   ]
  },
  {
   "cell_type": "code",
   "execution_count": 13,
   "id": "70b4e3ce-da39-4a12-a3e3-fb57a6ccd4b0",
   "metadata": {},
   "outputs": [
    {
     "name": "stdout",
     "output_type": "stream",
     "text": [
      "5\n",
      "<class 'int'>\n"
     ]
    }
   ],
   "source": [
    "#Explicit Type Conversion in Python\n",
    "#In this method, Python needs user involvement to convert the variable data type into the required data type. \n",
    "\n",
    "# int variable\n",
    "a = 5.9\n",
    "\n",
    "# typecast to int\n",
    "n = int(a)\n",
    "\n",
    "print(n)\n",
    "print(type(n))"
   ]
  },
  {
   "cell_type": "code",
   "execution_count": 14,
   "id": "f04e2766-82b6-439d-9fc6-3298ba781259",
   "metadata": {},
   "outputs": [
    {
     "name": "stdout",
     "output_type": "stream",
     "text": [
      "5.0\n",
      "<class 'float'>\n"
     ]
    }
   ],
   "source": [
    "a = 5\n",
    "\n",
    "# typecast to float\n",
    "n = float(a)\n",
    "\n",
    "print(n)\n",
    "print(type(n))"
   ]
  },
  {
   "cell_type": "code",
   "execution_count": 13,
   "id": "5a124bb1-3f2a-4ab8-aa17-41a318586db2",
   "metadata": {},
   "outputs": [
    {
     "data": {
      "text/plain": [
       "False"
      ]
     },
     "execution_count": 13,
     "metadata": {},
     "output_type": "execute_result"
    }
   ],
   "source": [
    "#bool typecasting\n",
    "\n",
    "#in this every number 1 or above 1 will be treated as true\n",
    "\n",
    "bool(0)"
   ]
  },
  {
   "cell_type": "markdown",
   "id": "af0e051f-9994-4388-8b83-ae2fbe1ef567",
   "metadata": {},
   "source": []
  },
  {
   "cell_type": "code",
   "execution_count": 11,
   "id": "e22f4d56-b74c-4de7-9fb2-334a62280c33",
   "metadata": {},
   "outputs": [
    {
     "data": {
      "text/plain": [
       "True"
      ]
     },
     "execution_count": 11,
     "metadata": {},
     "output_type": "execute_result"
    }
   ],
   "source": [
    "bool(3)"
   ]
  },
  {
   "cell_type": "code",
   "execution_count": 10,
   "id": "36f7f491-c6e6-465d-b670-cc0257182633",
   "metadata": {},
   "outputs": [
    {
     "data": {
      "text/plain": [
       "True"
      ]
     },
     "execution_count": 10,
     "metadata": {},
     "output_type": "execute_result"
    }
   ],
   "source": [
    "# even negative number will be treated as true\n",
    "bool(-5)"
   ]
  },
  {
   "cell_type": "code",
   "execution_count": 2,
   "id": "1a1d1dae-23a6-4932-ac3e-9528e1a3c589",
   "metadata": {},
   "outputs": [],
   "source": [
    "#6  HOW DO CONDITIONAL STATEMENTS WORK IN PYTHON? ILLUSTRATE WITH EXAMPLES.\n",
    "\n",
    "\n",
    "#conditional statements helps you to code decision based on soe preconditions \n",
    "\n",
    "#The \"if\" statement is the most basic form of conditional execution,\n",
    "#where a block of code is executed if the condition evaluates to True\n",
    "\n",
    "#The \"if\"...\"else\" statement allows for an alternative execution path when the if condition is False\n",
    "\n",
    "#if...elif...else Statement,For multiple conditions, Python provides the \"if\"...\"elif\"...\"else\" statement\n",
    "\n",
    "#Nested if Statements,Python also allows for nested if statements, where an if block can contain another if block\n"
   ]
  },
  {
   "cell_type": "code",
   "execution_count": 7,
   "id": "234a24a3-01c2-494b-9800-794810cb83fe",
   "metadata": {},
   "outputs": [
    {
     "name": "stdout",
     "output_type": "stream",
     "text": [
      "y is greater than zero\n",
      "i am so happy today\n"
     ]
    }
   ],
   "source": [
    "#example (if) statement-\n",
    "\n",
    "y=99\n",
    "if y>0:\n",
    "    print(\"y is greater than zero\")\n",
    "    \n",
    "\n",
    "mood = \"happy\" \n",
    "if mood ==\"happy\":\n",
    "    print(\"i am so happy today\")"
   ]
  },
  {
   "cell_type": "code",
   "execution_count": 8,
   "id": "57dcc258-b8c5-4d89-a5dc-c258cf604cc3",
   "metadata": {},
   "outputs": [
    {
     "name": "stdout",
     "output_type": "stream",
     "text": [
      "you are excellent\n",
      "i will go to play football\n"
     ]
    }
   ],
   "source": [
    "#examples (if..else) statements-\n",
    "\n",
    "grades = 89\n",
    "if grades >90:\n",
    "    print(\"you are amazing\")\n",
    "else:\n",
    "    print(\"you are excellent\")\n",
    "    \n",
    " \n",
    "weather = \"rainy\"\n",
    "if weather ==\"sunny\":\n",
    "    print(\"i will go to swiming\")\n",
    "else:\n",
    "    print(\"i will go to play football\")\n",
    "    \n"
   ]
  },
  {
   "cell_type": "code",
   "execution_count": 15,
   "id": "0797e8e4-b06b-42b9-b695-6da87651520e",
   "metadata": {},
   "outputs": [
    {
     "name": "stdout",
     "output_type": "stream",
     "text": [
      "the number is less than 100\n",
      "B+\n"
     ]
    }
   ],
   "source": [
    "#example of (if ..elif...else) statements-\n",
    "\n",
    "y=3\n",
    "if y>100:\n",
    "    print(\"the number is greater than 100\")\n",
    "elif y<100:\n",
    "    print(\"the number is less than 100\")\n",
    "else:\n",
    "    print(\"the number is equal to 100\")\n",
    "    \n",
    "    \n",
    "    \n",
    "score=78\n",
    "if score >90:\n",
    "    print(\"A+\")\n",
    "elif (85<=score<90):\n",
    "    print(\"A\")\n",
    "elif (75<= score<85):\n",
    "    print(\"B+\")\n",
    "elif (65<=score>75):\n",
    "    print(\"B\")\n",
    "else:\n",
    "    print(\"C\")"
   ]
  },
  {
   "cell_type": "code",
   "execution_count": 50,
   "id": "cdc11dd4-1502-43f2-a8c0-bc33d6b64a5d",
   "metadata": {},
   "outputs": [
    {
     "name": "stdout",
     "output_type": "stream",
     "text": [
      "x is not greater than 5\n"
     ]
    }
   ],
   "source": [
    "#example (nested if else)-\n",
    "\n",
    "x=1\n",
    "y=6\n",
    "if x>5:\n",
    "    if y>5:\n",
    "        print(\"both x and y are greater than 5\")\n",
    "    else:\n",
    "        print(\"x s greater than 5 but y is les than 5\")\n",
    "else:\n",
    "  print(\"x is not greater than 5\")\n",
    "     \n",
    "    "
   ]
  },
  {
   "cell_type": "code",
   "execution_count": 44,
   "id": "f1c9ffde-2b91-44a9-aeea-f2b884b23987",
   "metadata": {},
   "outputs": [
    {
     "name": "stdout",
     "output_type": "stream",
     "text": [
      "you are a vip person and also eligible for senior citizen discount\n"
     ]
    }
   ],
   "source": [
    "is_vip = \"true\"\n",
    "age=70\n",
    "if is_vip:\n",
    "    if age >=18:\n",
    "        if age<65:\n",
    "            print(\"welcome to vip customer\")\n",
    "        else:\n",
    "            print(\"you are a vip person and also eligible for senior citizen discount\")\n",
    "    else:\n",
    "        print(\"vip status is only for adults\")\n",
    "else:\n",
    "    print(\"you are not avip customer and will be charged on a regular price\")\n",
    "                    "
   ]
  },
  {
   "cell_type": "code",
   "execution_count": 56,
   "id": "c803678c-756b-4811-ba6d-6291959e6d62",
   "metadata": {},
   "outputs": [
    {
     "name": "stdin",
     "output_type": "stream",
     "text": [
      "enter a number 3\n"
     ]
    },
    {
     "name": "stdout",
     "output_type": "stream",
     "text": [
      "the number is greater than 0 but less than 100\n"
     ]
    }
   ],
   "source": [
    "# input of if elif-\n",
    "\n",
    "y = int(input(\"enter a number\"))\n",
    "if y>=100:\n",
    "    print(\"the number is greater than 100\")\n",
    "elif 0<=y<100:\n",
    "    print(\"the number is greater than 0 but less than 100\")\n",
    "else:\n",
    "    print(\"this is a negative number\")"
   ]
  },
  {
   "cell_type": "code",
   "execution_count": 57,
   "id": "1dc09504-3cfd-4022-9164-82f60a8efd03",
   "metadata": {},
   "outputs": [
    {
     "name": "stdin",
     "output_type": "stream",
     "text": [
      "enter a number -3\n"
     ]
    },
    {
     "name": "stdout",
     "output_type": "stream",
     "text": [
      "this is a negative number\n"
     ]
    }
   ],
   "source": [
    "y = int(input(\"enter a number\"))\n",
    "if y>=100:\n",
    "    print(\"the number is greater than 100\")\n",
    "elif 0<=y<100:\n",
    "    print(\"the number is greater than 0 but less than 100\")\n",
    "else:\n",
    "    print(\"this is a negative number\")"
   ]
  },
  {
   "cell_type": "code",
   "execution_count": 4,
   "id": "9574fb1d-02fd-405f-95bf-513aaf3bea04",
   "metadata": {
    "tags": []
   },
   "outputs": [
    {
     "name": "stdout",
     "output_type": "stream",
     "text": [
      "1\n",
      "2\n",
      "3\n",
      "4\n",
      "5\n",
      "6\n"
     ]
    }
   ],
   "source": [
    "# 7 DESCRIBE THE DIFFERENT TYPES OF LOOPS IN PYTHON AND THEIR USE CASES WITH EXAMPLES.\n",
    "\n",
    "\n",
    "#loop statement allows you to execute a block of code repeatedly.\n",
    "\n",
    "#two types of loops-\n",
    "#while loop\n",
    "#for loop\n",
    "\n",
    "#while loop\n",
    "#repeatedly executes a block of code until a condition is met\n",
    "\n",
    "#syntax-\n",
    "#\"while\" is a keyword used for a while loop\n",
    "\n",
    "#examples-\n",
    "\n",
    "n = 7\n",
    "i = 1\n",
    "while i < n:\n",
    "    print(i)\n",
    "    i=i+1\n"
   ]
  },
  {
   "cell_type": "code",
   "execution_count": 5,
   "id": "f321db56-4582-47a2-a455-e53f213cd714",
   "metadata": {},
   "outputs": [
    {
     "name": "stdout",
     "output_type": "stream",
     "text": [
      "1\n",
      "2\n",
      "3\n",
      "4\n",
      "5\n",
      "6\n",
      "this will be executed when the while is run successfully without any break\n"
     ]
    }
   ],
   "source": [
    "n = 7\n",
    "i = 1\n",
    "while i < n:\n",
    "    print(i)\n",
    "    i=i+1\n",
    "else:\n",
    "    print(\"this will be executed when the while is run successfully without any break\")"
   ]
  },
  {
   "cell_type": "code",
   "execution_count": 12,
   "id": "24341546-5144-4356-80ec-7b70ab590510",
   "metadata": {},
   "outputs": [
    {
     "name": "stdout",
     "output_type": "stream",
     "text": [
      "1\n",
      "2\n"
     ]
    }
   ],
   "source": [
    "# break statement \n",
    "#terminates the loop/ exits the loop \n",
    "n = 7\n",
    "i = 1\n",
    "while i < n:\n",
    "    print(i)\n",
    "    i=i+1\n",
    "    if i == 3:\n",
    "        break\n",
    "    \n"
   ]
  },
  {
   "cell_type": "code",
   "execution_count": 19,
   "id": "3b37b6c9-7449-4ed1-9822-41fd3efc5864",
   "metadata": {},
   "outputs": [
    {
     "name": "stdout",
     "output_type": "stream",
     "text": [
      "p\n",
      "w\n",
      "s\n",
      "k\n",
      "i\n",
      "i\n",
      "l\n",
      "l\n",
      "s\n"
     ]
    }
   ],
   "source": [
    "# for loops \n",
    "#iterate over a sequence of elements [string ,list,etc]\n",
    "\n",
    "#example-\n",
    "\n",
    "for i in\"pwskiills\":\n",
    "    print(i)"
   ]
  },
  {
   "cell_type": "code",
   "execution_count": 6,
   "id": "4bc4c3e6-8c45-4597-8dd5-0dc6af1d2643",
   "metadata": {},
   "outputs": [
    {
     "name": "stdout",
     "output_type": "stream",
     "text": [
      "1\n",
      "2\n",
      "yash\n",
      "pwskills\n"
     ]
    }
   ],
   "source": [
    "l = [1,2,\"yash\",\"pwskills\"]\n",
    "for i in l:\n",
    "    print(i)"
   ]
  },
  {
   "cell_type": "code",
   "execution_count": 12,
   "id": "f65b0415-6131-4cc7-b8a8-6accceec8df8",
   "metadata": {},
   "outputs": [
    {
     "name": "stdout",
     "output_type": "stream",
     "text": [
      "1\n",
      "2\n"
     ]
    }
   ],
   "source": [
    "#break statement i for loop\n",
    "l = [1,2,\"yash\",\"pwskills\"]\n",
    "for i in l:\n",
    "    if i ==\"yash\": break\n",
    "    print(i)   "
   ]
  },
  {
   "cell_type": "code",
   "execution_count": null,
   "id": "4f262ef1-10f3-4f93-8a59-cc9221ce0117",
   "metadata": {},
   "outputs": [],
   "source": []
  }
 ],
 "metadata": {
  "kernelspec": {
   "display_name": "Python 3 (ipykernel)",
   "language": "python",
   "name": "python3"
  },
  "language_info": {
   "codemirror_mode": {
    "name": "ipython",
    "version": 3
   },
   "file_extension": ".py",
   "mimetype": "text/x-python",
   "name": "python",
   "nbconvert_exporter": "python",
   "pygments_lexer": "ipython3",
   "version": "3.10.8"
  }
 },
 "nbformat": 4,
 "nbformat_minor": 5
}
